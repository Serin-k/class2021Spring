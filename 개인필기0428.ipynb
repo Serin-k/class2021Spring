{
  "nbformat": 4,
  "nbformat_minor": 0,
  "metadata": {
    "colab": {
      "name": "개인필기0428.ipynb",
      "provenance": [],
      "authorship_tag": "ABX9TyOfr1pDCe8n0bPyFYdfQTpd",
      "include_colab_link": true
    },
    "kernelspec": {
      "name": "python3",
      "display_name": "Python 3"
    },
    "language_info": {
      "name": "python"
    }
  },
  "cells": [
    {
      "cell_type": "markdown",
      "metadata": {
        "id": "view-in-github",
        "colab_type": "text"
      },
      "source": [
        "<a href=\"https://colab.research.google.com/github/Serin-k/class2021Spring/blob/main/%EA%B0%9C%EC%9D%B8%ED%95%84%EA%B8%B00428.ipynb\" target=\"_parent\"><img src=\"https://colab.research.google.com/assets/colab-badge.svg\" alt=\"Open In Colab\"/></a>"
      ]
    },
    {
      "cell_type": "markdown",
      "metadata": {
        "id": "DpQj2F9y3nqP"
      },
      "source": [
        "spectrum\n",
        "주파수 분석\n",
        "쭉 합쳐지면 spectrogram\n",
        "1. 모음을 하나 만들기 generation (source filter이해)\n",
        "2. spectrogram 만들기\n",
        "3. analysis\n",
        "\n",
        "성대에서 만들어내는 source를 어떻게 만드는가? \n",
        "다양한 pure tone\n",
        "\n",
        "...\n",
        "\n",
        "1초 안에 10000개가 있는거지\n",
        "0.5초는 5000개만 있는 것\n",
        "plot(t[0:1000], s[0:1000])\n",
        "\n",
        "\n",
        "...\n",
        "- e^pi i\n",
        "- e^theta i\n",
        "- e^3/2 pi i\n",
        "- e의 지수로 뭐든 적을 수 있음\n",
        "- 제일 큰 수의 개념이 복소수 >> e^theta i는 무조건 복소수가 된다 ㅇㅇ : 복소수는 모든 수의 표현이므로 a+bi의 형태로 표현이 가능할 것임\n",
        "\n"
      ]
    },
    {
      "cell_type": "code",
      "metadata": {
        "id": "H0mSSBHM_8a_"
      },
      "source": [
        "%matplotlib inline\n",
        "from matplotlib import pyplot as plt\n",
        "import IPython.display as ipd\n",
        "import numpy as np\n",
        "from scipy.signal import lfilter"
      ],
      "execution_count": 2,
      "outputs": []
    },
    {
      "cell_type": "code",
      "metadata": {
        "colab": {
          "base_uri": "https://localhost:8080/"
        },
        "id": "e3JEtfcY__jt",
        "outputId": "b400792a-7011-4474-b5d6-c966093301c8"
      },
      "source": [
        "theta = np.pi*0   # 0 90 180 270 360 \n",
        "                  # 0 pi/2 pi 3pi/2 2pi\n",
        "# np.sin(theta)\n",
        "# -16: 유효숫자개념\n",
        "\n",
        "# 사인부분을 밑의 것으로 대체 = e^theta i\n",
        "np.exp(theta*1j)\n",
        "# 복소수 형태로 나옴"
      ],
      "execution_count": 6,
      "outputs": [
        {
          "output_type": "execute_result",
          "data": {
            "text/plain": [
              "(1+0j)"
            ]
          },
          "metadata": {
            "tags": []
          },
          "execution_count": 6
        }
      ]
    }
  ]
}