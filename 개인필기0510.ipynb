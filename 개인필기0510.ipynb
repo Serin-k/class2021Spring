{
  "nbformat": 4,
  "nbformat_minor": 0,
  "metadata": {
    "colab": {
      "name": "개인필기0510.ipynb",
      "provenance": [],
      "collapsed_sections": [],
      "authorship_tag": "ABX9TyOIs03irBCFs6uWcCa27HLO",
      "include_colab_link": true
    },
    "kernelspec": {
      "name": "python3",
      "display_name": "Python 3"
    },
    "language_info": {
      "name": "python"
    }
  },
  "cells": [
    {
      "cell_type": "markdown",
      "metadata": {
        "id": "view-in-github",
        "colab_type": "text"
      },
      "source": [
        "<a href=\"https://colab.research.google.com/github/Serin-k/class2021Spring/blob/main/%EA%B0%9C%EC%9D%B8%ED%95%84%EA%B8%B00510.ipynb\" target=\"_parent\"><img src=\"https://colab.research.google.com/assets/colab-badge.svg\" alt=\"Open In Colab\"/></a>"
      ]
    },
    {
      "cell_type": "markdown",
      "metadata": {
        "id": "wYH0YRRopgIs"
      },
      "source": [
        "## **복습**\n",
        "- e^theta i\n",
        "- sine\n",
        "- sin(theta)\n",
        "- => sine phasor\n",
        "- 시간을 먼저 만들고(t) 각도와 연결해서(theta) 그걸 sin에 넣는다(sin(theta))\n",
        "- complex: 시간을 만들고(t), 각도와 연결시켜서(theta) e^theta i의 theta자리에 넣는다\n",
        "- x축을 실수부(a), y축을 허수부(b), z축은 시간(t). \n",
        "- 각도를...e^theta i를...넣으면....3차원 코일같은 형태의 그래프가 만들어진다\n",
        "- 3차원 그래프를 위에서 볼 수도 있고, 옆에서 볼 수도 있다. \n",
        "\n",
        "  - 위에서 보면 실수축만 남아있고, t축이 있다\n",
        "    - cos랑 똑같이 생기게 된다\n",
        "  - 옆에서 보면(앞에서 보면) 허수값만 남고, t축이 있다\n",
        "    - sine하고 똑같이 된다\n",
        "- 결론: e^theta i 부분은 무조건 복소수가 나올텐데(complex num) 그것의 실수부분만 따서 보면 cos함수랑 똑같이 되고, 허수 부분만 따서 보면 sin함수랑 똑같이 된다.\n",
        "- 왜? - 위에서 visually 다 봤다!  \n",
        "\n",
        "> 과제\n",
        "\n",
        "------------\n",
        "# **5/10**\n",
        "* 참고: 최신버전 sound로 업뎃되었음\n",
        "\n",
        "- pulse train: 성대에서 만들어지는 source\n",
        "- 위로 올라가면서 harmonics 만들어지는데 그것의 합이 pulse train\n",
        "- sampling rate와 연관됨. \n",
        "- for 루프 안에 sr이 입력\n",
        "- sr = 10000이었는데, 5천까지 sin곡선 만들어서 합친다는게 Fend: 왜 5천까지냐? - 우리가 표현할 수 있는 최대치의 주파수는 sr의반임. => Nyquist frequency: sr의 반. 표현할 수 있는 최대치는 sr의 반이다. ex) 돌고래의 높은 주파수를 표현할 수 있을까?  ㄴㄴ 만이면 5k까지만 표현할 수 있다. 돌고래가 10만정도의 hz의 소리를 낸다하면 아주 높은거는 20만 hz의 sr이 필요하다. 표현 가능한 최대치이 frequency라고 보면 된다. \n",
        "- for 루프에서 f0(100)부터 Fend+1(5000)까지 100만큰 증가시켜서. 간다. sr이 반까지만 표현돼서 5천까지만 표현된다. \n",
        "- 지난시간에 amp가 표현이 안되어서 amp * np.sin(theta)로 수정했음\n",
        "- 왜 NF가 sr의 반이 되어야 하는가? \n",
        "  - 참고: 공돌이의 수학정리노트\n",
        "  - 복소수와 오일러 공식\n",
        "  - 나이퀴스트 이론\n",
        "    - x축이 time, sine wave가 어떤 현식의 freq를 가질 것. 우리가 과연 쓸 수 있는 숫자의 개수가 점들이 sampl이다. \n",
        "    - 하얀 웨이브는...\n",
        "\n",
        "    - 그래프가 있을 때 최소한도로 표현하는데 필요한 점의 개수는?  \n",
        "      - 위꼭지점이랑 아래꼭지점 개수만큼\n",
        "        - freq: 3Hz\n",
        "        - sr: 6Hz\n",
        "        - 최소한의 표현을 위해서 최대최소점은 찍어줘야한다. 그래서 sr과 표현가능한 최대치 freq은 적어도 2배는 되어야 한다. \n",
        "        - sr의 반 = Nyquist frequency\n",
        "\n",
        "\n",
        "## **Filter**\n",
        "- formant는 주파수 상에서 어디가 더 공명이 되느ㄴ지에 대한 정보. 산맥에 해당\n",
        " - F1, F2가 모음을 결정                    ;\n",
        " - ....\n",
        " - pu;se train = harmonics = soucrce\n",
        " - BW: band width\n",
        " - 산맥의 width를 band width라고 한다. 산맥이 얼마나 spiky(뾰쪽한가)를 말한다. width가 크면 산맥이 둔하고, 아니면 뾰쪽해진다. \n",
        " - F1은 늘 BW가 90, F2는 110, F3, F4, F5...- 숫자가 작을수록 BW가 작으니까 더 뾰족. 커질수록, formant가 밑으로 주파수가 높아질수록 BW가 높아진다.: 산맥을 formant를 만든다고 쳤을 때, 처음에는 뾰족하게, 두세네다섯번째는 조금씩 넓엉지게 만들어야 사람의 모음과 조금이라도 더 가까워진다. \n",
        " - hz2w, resonance함수는 쓰긴할건데 공부안해도됨\n",
        "\n",
        " - RG는 산맥의 위치\n",
        " - peak를 0위치에 둠으로써...\n",
        " - frequency가 높아질수록 값이 작아진다\n",
        " - gradually decreasing하는 pulse train으로 바뀐다. \n",
        "  - 원래 끽끽하는 소리에서 부드러운 소리로 바뀐다. 진짜 성대소리같은 느낌\n",
        "\n",
        "  - 두번째 /a/모음에 해당하는 750, 1187, 2595, 3781 점점 '아'가 되어가는... \n",
        "- 관악기 제일 앞부분 퍼지게 되어있음. 입술의 증폭효과. 그 효과가 입술구현 lfilter()\n",
        "\n",
        "## **정리**\n",
        "- 제일 처음 phasor\n",
        "- harmonics로 합을 만듬 : pulse train\n",
        "- freq 높아질수록 gradually 줄어들게\n",
        "- formant 1,2,3,4 만들어줬다 (filtering)\n",
        "- 마지막으로 입술 구현(증폭현상)\n",
        "  - => /a/ 소리가 나더라\n",
        "\n",
        "> ### **과제**\n",
        "모음 하나 만들어보기(/e/, /i/, /o/, /u/)중에 하나 F5는 생략, BW는 fixed. F1~F4만 바꿔서 20210510.wav로 만들기\n",
        "깃헙에서 sound를 콜랩으로 들고가서 다 실행하고, s= s_all까지 실행하고 그밑의 숫자를 다른 모음에 해당하는 숫자로 바꿔서(4개만) + 젤 마지막에 나오는 소리를(lfilter 다음)을 확인하고 다운로드한다. 다운된 wav 파일을 이름을 적어주고 올린다. \n",
        "\n",
        "\n",
        "\n",
        "- Fourier transform"
      ]
    }
  ]
}