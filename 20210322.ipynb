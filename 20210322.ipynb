{
  "nbformat": 4,
  "nbformat_minor": 0,
  "metadata": {
    "colab": {
      "name": "20210322.ipynb",
      "provenance": [],
      "authorship_tag": "ABX9TyP+adc7bl8oTH19Jb2F80p7",
      "include_colab_link": true
    },
    "kernelspec": {
      "name": "python3",
      "display_name": "Python 3"
    },
    "language_info": {
      "name": "python"
    }
  },
  "cells": [
    {
      "cell_type": "markdown",
      "metadata": {
        "id": "view-in-github",
        "colab_type": "text"
      },
      "source": [
        "<a href=\"https://colab.research.google.com/github/Serin-k/class2021Spring/blob/main/20210322.ipynb\" target=\"_parent\"><img src=\"https://colab.research.google.com/assets/colab-badge.svg\" alt=\"Open In Colab\"/></a>"
      ]
    },
    {
      "cell_type": "markdown",
      "metadata": {
        "id": "7SEqQtYJUihr"
      },
      "source": [
        "# **3/22 함수**\n",
        "\n",
        "```\n",
        "def addition(x1, x1)\n",
        "y=x1+x2\n",
        "return y\n",
        "\n",
        "def func1(x, a, b)\n",
        "y=ax+b\n",
        "return y\n",
        "\n",
        "func1(5, 1, -2)\n",
        "```\n",
        "- 함수는 출력이 없어도 돌아간다\n",
        "- 함수는 입력이 없어도 돌아간다\n",
        "\n",
        "\n",
        "> 과제\n",
        ">\n",
        ">함수를 만들어서 실행해보고 20210322로 깃헙에 올리기"
      ]
    },
    {
      "cell_type": "code",
      "metadata": {
        "id": "jJtWcOlsXHBl"
      },
      "source": [
        "def add(a,b):\n",
        "  return a+b"
      ],
      "execution_count": null,
      "outputs": []
    },
    {
      "cell_type": "code",
      "metadata": {
        "colab": {
          "base_uri": "https://localhost:8080/"
        },
        "id": "BeFbVElQXRE0",
        "outputId": "43beb3d2-8bf5-4a8e-b044-03e7791e61eb"
      },
      "source": [
        "#일차함수\n",
        "def func1(x, a, b):\n",
        "  y=a*x+b\n",
        "  return y\n",
        "\n",
        "#이차함수\n",
        "def func2(x, a, b, c):\n",
        "  y=a*x**2+b*x+c\n",
        "  return y\n",
        "\n",
        "func2(2, 1, 2, 3)"
      ],
      "execution_count": 3,
      "outputs": [
        {
          "output_type": "execute_result",
          "data": {
            "text/plain": [
              "11"
            ]
          },
          "metadata": {
            "tags": []
          },
          "execution_count": 3
        }
      ]
    }
  ]
}