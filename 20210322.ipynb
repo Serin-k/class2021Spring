{
  "nbformat": 4,
  "nbformat_minor": 0,
  "metadata": {
    "colab": {
      "name": "20210322.ipynb",
      "provenance": [],
      "collapsed_sections": [],
      "authorship_tag": "ABX9TyPenvsl+odnLQ8BlTR8cPJj",
      "include_colab_link": true
    },
    "kernelspec": {
      "name": "python3",
      "display_name": "Python 3"
    },
    "language_info": {
      "name": "python"
    }
  },
  "cells": [
    {
      "cell_type": "markdown",
      "metadata": {
        "id": "view-in-github",
        "colab_type": "text"
      },
      "source": [
        "<a href=\"https://colab.research.google.com/github/Serin-k/class2021Spring/blob/main/20210322.ipynb\" target=\"_parent\"><img src=\"https://colab.research.google.com/assets/colab-badge.svg\" alt=\"Open In Colab\"/></a>"
      ]
    },
    {
      "cell_type": "markdown",
      "metadata": {
        "id": "7SEqQtYJUihr"
      },
      "source": [
        "# **3/22 함수**\n",
        "\n",
        "```\n",
        "def addition(x1, x1)\n",
        "y=x1+x2\n",
        "return y\n",
        "\n",
        "def func1(x, a, b)\n",
        "y=ax+b\n",
        "return y\n",
        "\n",
        "func1(5, 1, -2)\n",
        "```\n",
        "- 함수는 출력이 없어도 돌아간다\n",
        "- 함수는 입력이 없어도 돌아간다\n",
        "\n",
        "\n",
        "> 과제\n",
        ">\n",
        ">함수를 만들어서 실행해보고 20210322로 깃헙에 올리기"
      ]
    },
    {
      "cell_type": "code",
      "metadata": {
        "id": "jJtWcOlsXHBl"
      },
      "source": [
        "def add(a,b):\n",
        "  return a+b"
      ],
      "execution_count": null,
      "outputs": []
    },
    {
      "cell_type": "code",
      "metadata": {
        "colab": {
          "base_uri": "https://localhost:8080/"
        },
        "id": "BeFbVElQXRE0",
        "outputId": "43beb3d2-8bf5-4a8e-b044-03e7791e61eb"
      },
      "source": [
        "#일차함수\n",
        "def func1(x, a, b):\n",
        "  y=a*x+b\n",
        "  return y\n",
        "\n",
        "#이차함수\n",
        "def func2(x, a, b, c):\n",
        "  y=a*x**2+b*x+c\n",
        "  return y\n",
        "\n",
        "func2(2, 1, 2, 3)"
      ],
      "execution_count": 3,
      "outputs": [
        {
          "output_type": "execute_result",
          "data": {
            "text/plain": [
              "11"
            ]
          },
          "metadata": {
            "tags": []
          },
          "execution_count": 3
        }
      ]
    },
    {
      "cell_type": "markdown",
      "metadata": {
        "id": "676JeZgFav-8"
      },
      "source": [
        "함수 module\n",
        "\n",
        "변수 a=1\n",
        "\n",
        "module\n",
        "\n",
        "class \n",
        "\n",
        "oop\n",
        "\n",
        "object oriented program\n",
        "\n",
        "##**class**\n",
        "```\n",
        "class cal:\n",
        "  def __init__(self):\n",
        "    self add(self, n):\n",
        "  def add(self, n):\n",
        "    self.result += n\n",
        "    return self.result\n",
        "    ```\n",
        "\n",
        "    ```\n",
        "    A=cal()\n",
        "    A.result\n",
        "    ```\n"
      ]
    },
    {
      "cell_type": "code",
      "metadata": {
        "colab": {
          "base_uri": "https://localhost:8080/"
        },
        "id": "-ZxKxy3wdOfd",
        "outputId": "9e32195e-4010-4066-b0e9-0c2866c90465"
      },
      "source": [
        "class cal:\n",
        "  def __init__(self):\n",
        "    self.result = 0\n",
        "  def add(self, n):\n",
        "    self.result += n\n",
        "    return self.result\n",
        "\n",
        "\n",
        "\n",
        "A=cal()\n",
        "A.result\n",
        "\n",
        "A.add(4)\n",
        "\n",
        "A.add(6)\n"
      ],
      "execution_count": 6,
      "outputs": [
        {
          "output_type": "execute_result",
          "data": {
            "text/plain": [
              "10"
            ]
          },
          "metadata": {
            "tags": []
          },
          "execution_count": 6
        }
      ]
    },
    {
      "cell_type": "markdown",
      "metadata": {
        "id": "f7d2lyOWd2lW"
      },
      "source": [
        "##**module**\n",
        "- 모듈은 함수나 변수 또는 클래스를 모아 놓은 파일\n",
        "- ㅁㅁ.py\n",
        "\n",
        "\n",
        "```\n",
        "import.opynb\n",
        "\n",
        "import numpy as np\n",
        "n = np.ramdom.randn(100)\n",
        "# randn은 100개의 normal한 정규분포 숫자를 갖는다\n",
        "\n",
        "#통으로\n",
        "import matplotlib\n",
        "matplotlib.pyplot.hist(n)\n",
        "#제일큰 모듈을 통으로\n",
        "import matplolib.pyplotㅍ\n",
        "matplotlib.pyplot.hist(n)\n",
        "#상위개념이 from, 하위개념이 import. import부분만 따서 쓰면 됨\n",
        "from matplotlib import pyplot\n",
        "pyplot.hist(n)\n",
        "#함수만\n",
        "from mtplotlib.pyplot import hist\n",
        "hist(n)\n",
        "\n",
        "\n",
        "```\n",
        "\n",
        "- matpolit.lib이라는 패키지속에있는\n",
        "- pyplot.py라는 모듈속에는\n",
        "- func들, class들\n",
        "- 그 수많은 func중에 하나인 hist()"
      ]
    }
  ]
}