{
  "nbformat": 4,
  "nbformat_minor": 0,
  "metadata": {
    "colab": {
      "name": "20210426.ipynb",
      "provenance": [],
      "authorship_tag": "ABX9TyPPT4iMPWX8LqKaFunr51Ge",
      "include_colab_link": true
    },
    "kernelspec": {
      "name": "python3",
      "display_name": "Python 3"
    },
    "language_info": {
      "name": "python"
    }
  },
  "cells": [
    {
      "cell_type": "markdown",
      "metadata": {
        "id": "view-in-github",
        "colab_type": "text"
      },
      "source": [
        "<a href=\"https://colab.research.google.com/github/Serin-k/class2021Spring/blob/main/20210426.ipynb\" target=\"_parent\"><img src=\"https://colab.research.google.com/assets/colab-badge.svg\" alt=\"Open In Colab\"/></a>"
      ]
    },
    {
      "cell_type": "markdown",
      "metadata": {
        "id": "zv8o3uSel2tL"
      },
      "source": [
        "함수 이름 phasor(amp, sr, dur, freq)\n",
        "출력 return s(Signal), theta, t(time)"
      ]
    },
    {
      "cell_type": "code",
      "metadata": {
        "id": "3gXHpRRXxwQy"
      },
      "source": [
        "%matplotlib inline\n",
        "from matplotlib import pyplot as plt\n",
        "import IPython.display as ipd\n",
        "import numpy as np\n",
        "from scipy.signal import lfilter\n",
        "\n",
        "# parameter setting\n",
        "amp = 1          # range [0.0, 1.0]\n",
        "sr = 10000       # sampling rate, Hz\n",
        "dur = 0.5        # in seconds\n",
        "freq = 100.0     # sine frequency, Hz\n",
        "# amp: wave가 있을 때 높이. 진폭. 1로 설정하면 -1~1\n",
        "# sr: sampling rate. 10000Hz로 한다는 것은 1초에 몇 개의 값(sample)이 들어가 있을 것인가. 얼마나 더 촘촘하게 할 것인가. 1초에 10000개의 숫자를 설정할 것이다\n",
        "# dur: 얼마나 긴 sine wave를 만들 것인가\n",
        "# freq(소리의 높낮이): 100으로 한다는 것은, 한번 왔다갔다하는 사이클(cycle)이 1초에 몇 개 있게 할 것인가. <-> sampling rate: 1초에 값들이 몇개가 있는가. freq: 반복되는 cycle이 몇개가 있는가 !!"
      ],
      "execution_count": 2,
      "outputs": []
    },
    {
      "cell_type": "code",
      "metadata": {
        "id": "wb70vGskl2K8"
      },
      "source": [
        "def phasor(amp, sr, dur, freq):\n",
        "  # generate time 각도값 phase와 시간을 싱크(sync)시켜야한다. 이때 사용되는 변수sr(sampling rate)\n",
        "  # 1초에 값들이 몇개가 들어있는가: 시간을 얼마나 잘게 쪼갤 것인가. \n",
        "  # np.arange(1. 10000 * 1 + 1) 1~10000까지의 숫자를 만들어낸다. \n",
        "  # 시간 list t를 미리 만들어놓는다\n",
        "  # 시간은 sin곡선의 입력으로 들어가지 못한당. 시간에 따른 각도로 바꿔줘야함\n",
        "  t = np.arange(1, sr * dur+1)/sr\n",
        "\n",
        "  # generate phase: sine wave 만들 때 각도값\n",
        "  # 시간에 2파이를 곱하면 한바퀴짜리 sine wave가 만들어짐\n",
        "  # 근데 우리는 freq100. 100바퀴짜리가 필요한거임\n",
        "  theta = t * 2*np.pi * freq   \n",
        "\n",
        "  # generate signal by cosine-phasor. sine wave. 입력값으로 radian 각도값\n",
        "  # np.sin이라고 해야함. \n",
        "  # s = 사인곡선\n",
        "  s = np.sin(theta)\n",
        "\n",
        "  return s, theta, t"
      ],
      "execution_count": 4,
      "outputs": []
    },
    {
      "cell_type": "code",
      "metadata": {
        "colab": {
          "base_uri": "https://localhost:8080/"
        },
        "id": "W0UKBiF0yl_2",
        "outputId": "c70acd92-2855-4610-dcbe-abb06d4787ce"
      },
      "source": [
        "phasor(amp, sr, dur, freq)"
      ],
      "execution_count": 5,
      "outputs": [
        {
          "output_type": "execute_result",
          "data": {
            "text/plain": [
              "(array([ 6.27905195e-02,  1.25333234e-01,  1.87381315e-01, ...,\n",
              "        -1.25333234e-01, -6.27905195e-02,  1.96438672e-15]),\n",
              " array([6.28318531e-02, 1.25663706e-01, 1.88495559e-01, ...,\n",
              "        3.14033602e+02, 3.14096434e+02, 3.14159265e+02]),\n",
              " array([1.000e-04, 2.000e-04, 3.000e-04, ..., 4.998e-01, 4.999e-01,\n",
              "        5.000e-01]))"
            ]
          },
          "metadata": {
            "tags": []
          },
          "execution_count": 5
        }
      ]
    }
  ]
}