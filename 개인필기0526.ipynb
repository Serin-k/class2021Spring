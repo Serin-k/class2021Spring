{
  "nbformat": 4,
  "nbformat_minor": 0,
  "metadata": {
    "colab": {
      "name": "Untitled2.ipynb",
      "provenance": [],
      "authorship_tag": "ABX9TyO2ISk7URlbGQTPSdfpqtCb",
      "include_colab_link": true
    },
    "kernelspec": {
      "name": "python3",
      "display_name": "Python 3"
    },
    "language_info": {
      "name": "python"
    }
  },
  "cells": [
    {
      "cell_type": "markdown",
      "metadata": {
        "id": "view-in-github",
        "colab_type": "text"
      },
      "source": [
        "<a href=\"https://colab.research.google.com/github/Serin-k/class2021Spring/blob/main/%EA%B0%9C%EC%9D%B8%ED%95%84%EA%B8%B00526.ipynb\" target=\"_parent\"><img src=\"https://colab.research.google.com/assets/colab-badge.svg\" alt=\"Open In Colab\"/></a>"
      ]
    },
    {
      "cell_type": "markdown",
      "metadata": {
        "id": "raRpdbX5CcQM"
      },
      "source": [
        "# **5/26**\n",
        "\n",
        "- \n",
        "- \n",
        "- \n",
        "----------\n",
        "\n",
        "Fourier transform\n",
        "\n",
        "/a/ signal로 분석을 하는 것이다\n",
        "\n",
        "똑같은 길이의 complex phasor를 만든다\n",
        "\n",
        "0.437초짜리 complex phasor를 512개 만든다 (갯수는 상관 없음), 단, frequency를 낮은 것부터 높은것까지 저주파~고주파, 길이는 0.437초짜리 똑같이 해서 만든다\n",
        "\n",
        "sine wave를 만들어도 되긴 하는데, 그건 ?? sensitivity로 인해 쓰면 안된다고 했음\n",
        "\n",
        "최고주파는 sr과 똑같이 한다. 최저주파는 sr을 512로 나눈 값과 똑같이 할거다.\n",
        "\n",
        "sr이 10000이었음. 최고주파는 10000Hz가 될 것, 그 사이에 512개가 있을 것이다. \n",
        "\n",
        "```\n",
        "for n in range(1,nFFT+1): 어쩌구~\n",
        "```\n",
        " -----------\n",
        "\n",
        "-\n",
        "-\n",
        "-\n",
        "------------\n",
        "사람이 듣는 가청주파수가 20000이라면, sr은 몇으로 해아할까? 40000. --> \n",
        "\n",
        "\n"
      ]
    }
  ]
}