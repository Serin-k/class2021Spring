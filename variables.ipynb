{
  "nbformat": 4,
  "nbformat_minor": 0,
  "metadata": {
    "kernelspec": {
      "display_name": "Python 3",
      "language": "python",
      "name": "python3"
    },
    "language_info": {
      "codemirror_mode": {
        "name": "ipython",
        "version": 3
      },
      "file_extension": ".py",
      "mimetype": "text/x-python",
      "name": "python",
      "nbconvert_exporter": "python",
      "pygments_lexer": "ipython3",
      "version": "3.7.1"
    },
    "colab": {
      "name": "variables.ipynb의 사본",
      "provenance": [],
      "include_colab_link": true
    }
  },
  "cells": [
    {
      "cell_type": "markdown",
      "metadata": {
        "id": "view-in-github",
        "colab_type": "text"
      },
      "source": [
        "<a href=\"https://colab.research.google.com/github/Serin-k/class2021Spring/blob/main/variables.ipynb\" target=\"_parent\"><img src=\"https://colab.research.google.com/assets/colab-badge.svg\" alt=\"Open In Colab\"/></a>"
      ]
    },
    {
      "cell_type": "markdown",
      "metadata": {
        "id": "7MHg3jQEisCo"
      },
      "source": [
        "# **3/15**\r\n",
        "\r\n",
        "### 변수\r\n",
        "- int\r\n",
        "- float\r\n",
        "  ```\r\n",
        "  a=1\r\n",
        "  a=float(a)\r\n",
        "  ```\r\n",
        "- str\r\n",
        "  - 리스트와 비슷\r\n",
        "  - [숫자] 인덱스로 제어 가능\r\n",
        "- list[]\r\n",
        "  - 다른 종류의 타입이어도 상관없음\r\n",
        "  - 또다른 리스트가 들어올 수도 있음\r\n",
        "  - list[숫자]로 제어 가능\r\n",
        "  ```\r\n",
        "  a=[1,2,3[\r\n",
        "  a[0] = -1\r\n",
        "  ```\r\n",
        "- tuple()\r\n",
        "  - 인덱스로 제어 불가능. 바꿀 수 없음\r\n",
        "- dictionary{}\r\n",
        "  - 대괄호 {}\r\n",
        "  ```\r\n",
        "  a={'a':'apple', 'b':'orange', 'c':2014}\r\n",
        "  ```\r\n",
        "\r\n",
        "- print(type(a))로 타입 확인가능\r\n",
        "\r\n",
        "- ⭐인덱싱\r\n",
        "  - 0부터 시작, 맨뒤는 -1처럼 음수로도 접근가능\r\n",
        "  - [1:3]으로 1~2 번째 출력가능. 1부터 3번째 전까지라는 뜻\r\n",
        "  - [1:-1] 1부터 끝까지\r\n",
        "  - [:3] 맨첨부터 3번째 전까지\r\n",
        "  - len으로 길이/개수 알 수 있음\r\n",
        "  - list.upper()하면 대문자로 출력됨. list자체를 바꾸고 싶으면 \r\n",
        "  ```\r\n",
        "  list=list.upper()\r\n",
        "  ```\r\n",
        "  - list.lower()하면 소문자\r\n",
        "  - list.find('house')하면 house를 찾아서 인덱스 반환/없으면 -1\r\n",
        "  - list.rindex('')는 뒤에서부터 index\r\n",
        "  - list.strip은 젤앞 젤뒤 공백 없어짐  - list.lower()하면 소문자\r\n",
        "  - list.find('house')하면 house를 찾아서 인덱스 반환/없으면 -1\r\n",
        "  - list.rindex('')는 뒤에서부터 index\r\n",
        "  - list.strip은 젤앞 젤뒤 공백 없어짐\r\n",
        "  - list.split('')은 빈칸을 기준으로 split해서 리스트로 만들어줌\r\n",
        "  - ' '.join(tokens)하면 빈칸 기준으로 하나로 이어줌\r\n",
        "  - list=list.replace('this', 'that') this를 that으로 바꿔줌\r\n"
      ]
    },
    {
      "cell_type": "code",
      "metadata": {
        "id": "goAyoU7vRheI",
        "outputId": "c32cc600-3c42-4dc2-b77d-84782e8fe65a"
      },
      "source": [
        "a = 1; print(type(a))"
      ],
      "execution_count": null,
      "outputs": [
        {
          "output_type": "stream",
          "text": [
            "<class 'int'>\n"
          ],
          "name": "stdout"
        }
      ]
    },
    {
      "cell_type": "code",
      "metadata": {
        "id": "txxnoqJuRheJ",
        "outputId": "713e5491-c822-43d7-ec7b-a00348e02708"
      },
      "source": [
        "a = 1; a = float(a); print(type(a))"
      ],
      "execution_count": null,
      "outputs": [
        {
          "output_type": "stream",
          "text": [
            "<class 'float'>\n"
          ],
          "name": "stdout"
        }
      ]
    },
    {
      "cell_type": "code",
      "metadata": {
        "id": "By9UCBctRheK",
        "outputId": "b0e2dc33-a3e3-4801-ffe4-b69ac0c74b13"
      },
      "source": [
        "a = 1.2; a = int(a); print(type(a))"
      ],
      "execution_count": null,
      "outputs": [
        {
          "output_type": "stream",
          "text": [
            "<class 'int'>\n"
          ],
          "name": "stdout"
        }
      ]
    },
    {
      "cell_type": "code",
      "metadata": {
        "id": "SyP0PB86RheL",
        "outputId": "e10d274f-e7fd-4cdd-a822-847fb83560ec"
      },
      "source": [
        "a = '123'; print(type(a)); print(a[1])"
      ],
      "execution_count": null,
      "outputs": [
        {
          "output_type": "stream",
          "text": [
            "<class 'str'>\n",
            "2\n"
          ],
          "name": "stdout"
        }
      ]
    },
    {
      "cell_type": "code",
      "metadata": {
        "id": "byDy9oFERheL",
        "outputId": "bfc3fed4-2c45-4830-a723-0981b1b02914"
      },
      "source": [
        "a = '123'; a = list(a); print(type(a)); print(a); print(a[2])"
      ],
      "execution_count": null,
      "outputs": [
        {
          "output_type": "stream",
          "text": [
            "<class 'list'>\n",
            "['1', '2', '3']\n",
            "3\n"
          ],
          "name": "stdout"
        }
      ]
    },
    {
      "cell_type": "code",
      "metadata": {
        "id": "DfS-gknCRheL",
        "outputId": "0cf2a3dd-678f-47ab-b4d6-c62e43e428e5"
      },
      "source": [
        "a = [1,'2', [3, '4']]; print(type(a)); print(a[0]); print(a[1]); print(a[2])"
      ],
      "execution_count": null,
      "outputs": [
        {
          "output_type": "stream",
          "text": [
            "<class 'list'>\n",
            "1\n",
            "2\n",
            "[3, '4']\n"
          ],
          "name": "stdout"
        }
      ]
    },
    {
      "cell_type": "code",
      "metadata": {
        "id": "wuUZdEnyRheM",
        "outputId": "3f1479d8-f8d2-43b0-b33e-f54ac9e17f6d"
      },
      "source": [
        "a = (1,'2', [3, '4']); print(type(a)); print(a[0]); print(a[1]); print(a[2])"
      ],
      "execution_count": null,
      "outputs": [
        {
          "output_type": "stream",
          "text": [
            "<class 'tuple'>\n",
            "1\n",
            "2\n",
            "[3, '4']\n"
          ],
          "name": "stdout"
        }
      ]
    },
    {
      "cell_type": "code",
      "metadata": {
        "id": "2sivfloGRheM",
        "outputId": "5c768bb7-e02b-4c87-a76e-3e992cdb244e"
      },
      "source": [
        "a =\t{\"a\": \"apple\", \"b\": \"orange\", \"c\": 2014}\n",
        "print(type(a))\n",
        "print(a[\"a\"])"
      ],
      "execution_count": null,
      "outputs": [
        {
          "output_type": "stream",
          "text": [
            "<class 'dict'>\n",
            "apple\n"
          ],
          "name": "stdout"
        }
      ]
    },
    {
      "cell_type": "code",
      "metadata": {
        "id": "A7teRXuCRheN",
        "outputId": "79a99306-d858-4682-a61e-a21c74bd903d"
      },
      "source": [
        "a=[(1,2,3), (3,8,0)]\n",
        "print(type(a))\n",
        "a"
      ],
      "execution_count": null,
      "outputs": [
        {
          "output_type": "stream",
          "text": [
            "<class 'list'>\n"
          ],
          "name": "stdout"
        },
        {
          "output_type": "execute_result",
          "data": {
            "text/plain": [
              "[(1, 2, 3), (3, 8, 0)]"
            ]
          },
          "metadata": {
            "tags": []
          },
          "execution_count": 27
        }
      ]
    }
  ]
}