{
  "nbformat": 4,
  "nbformat_minor": 0,
  "metadata": {
    "colab": {
      "name": "개인필기0524",
      "provenance": [],
      "toc_visible": true,
      "authorship_tag": "ABX9TyOhVLfXVpm7LK7HAPJZ2asY",
      "include_colab_link": true
    },
    "kernelspec": {
      "name": "python3",
      "display_name": "Python 3"
    },
    "language_info": {
      "name": "python"
    }
  },
  "cells": [
    {
      "cell_type": "markdown",
      "metadata": {
        "id": "view-in-github",
        "colab_type": "text"
      },
      "source": [
        "<a href=\"https://colab.research.google.com/github/Serin-k/class2021Spring/blob/main/%EA%B0%9C%EC%9D%B8%ED%95%84%EA%B8%B00524.ipynb\" target=\"_parent\"><img src=\"https://colab.research.google.com/assets/colab-badge.svg\" alt=\"Open In Colab\"/></a>"
      ]
    },
    {
      "cell_type": "markdown",
      "metadata": {
        "id": "sejK45Rb0PIA"
      },
      "source": [
        "# 5/24 프리에\n",
        "\n",
        "- \n",
        "- \n",
        "- \n",
        "- \n",
        "- \n",
        "- \n",
        "----------\n",
        "\n",
        "- 벡터의 사이즈와 서로서로의 길이? 개수가 같아야 한다. (dot product 개수)\n",
        "- 같은 크기의 다양한 사인곡선을 만들어서 (sampling rate까지 만든다)\n",
        "- 숫자가 나오는걸 freq축으로 값들을 쭉 세운다--> spectrum / y축은 dot product의 값 이어주면 그 자체로 spectrum\n",
        "\n",
        "----------\n",
        "- phasor 두개 배웠음\n",
        "- sine phasor: sin(theta) \n",
        "  - 치명적인 단점: 값이 왔다갔다하기 때문에 dot product했을 때 값이 0이 나와버릴 수 있음\n",
        "- complex phasor: e^i theta\n",
        "  - 장점: 안정적으로 구해낼 수 있다\n",
        "  ------------\n",
        "- 복소수이지만 dot product했을 때 하나로 여러개를 만들어낼 수 있다\n",
        "- 복소수일때에는 freq에 spectrum만들때 무슨 숫자로 찍는가?\n",
        "  - |a+bi| 이 길이를 찍는다\n",
        "  - 그러면 phase sensitive한거는 없어진다\n",
        "\n",
        "- ==> Fourier Transform\n",
        "\n",
        "-----\n",
        "- 벡터의 크기/길이? 온점(0,0)으로부터의 길이\n",
        "- dot product의 결과값이 높으면 해당 선분이 많이 있구나. sine을 쓰려고 해떠니 90도차이만나도 0이 돼버리니까 못쓴다\n",
        "- 그걸 해결하는게 complex phasor다 "
      ]
    }
  ]
}