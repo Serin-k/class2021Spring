{
  "nbformat": 4,
  "nbformat_minor": 0,
  "metadata": {
    "colab": {
      "name": "20210317.ipynb",
      "provenance": [],
      "authorship_tag": "ABX9TyND5RBpWxDdrvZcD/RJMCWh",
      "include_colab_link": true
    },
    "kernelspec": {
      "name": "python3",
      "display_name": "Python 3"
    }
  },
  "cells": [
    {
      "cell_type": "markdown",
      "metadata": {
        "id": "view-in-github",
        "colab_type": "text"
      },
      "source": [
        "<a href=\"https://colab.research.google.com/github/Serin-k/class2021Spring/blob/main/20210317.ipynb\" target=\"_parent\"><img src=\"https://colab.research.google.com/assets/colab-badge.svg\" alt=\"Open In Colab\"/></a>"
      ]
    },
    {
      "cell_type": "markdown",
      "metadata": {
        "id": "W-vJG6Wxk_jK"
      },
      "source": [
        "### Syntax\r\n",
        "--------------\r\n",
        "\r\n",
        "(1) for-for-if\r\n",
        "\r\n",
        "(2) loop-list\r\n",
        "\r\n"
      ]
    },
    {
      "cell_type": "markdown",
      "metadata": {
        "id": "uLJ0-t9Wwf0N"
      },
      "source": [
        ""
      ]
    },
    {
      "cell_type": "code",
      "metadata": {
        "colab": {
          "base_uri": "https://localhost:8080/"
        },
        "id": "aa4HXLigubzB",
        "outputId": "9ec8ad5a-9143-4551-a4b3-46212a5f95f1"
      },
      "source": [
        "# (1) for-for-if\r\n",
        "\r\n",
        "for i in range(0,10):\r\n",
        "  for j in range(20):\r\n",
        "      if (j%5 == 0):\r\n",
        "        print(i*j)\r\n",
        "  print(\"\\n\")"
      ],
      "execution_count": 8,
      "outputs": [
        {
          "output_type": "stream",
          "text": [
            "0\n",
            "0\n",
            "0\n",
            "0\n",
            "\n",
            "\n",
            "0\n",
            "5\n",
            "10\n",
            "15\n",
            "\n",
            "\n",
            "0\n",
            "10\n",
            "20\n",
            "30\n",
            "\n",
            "\n",
            "0\n",
            "15\n",
            "30\n",
            "45\n",
            "\n",
            "\n",
            "0\n",
            "20\n",
            "40\n",
            "60\n",
            "\n",
            "\n",
            "0\n",
            "25\n",
            "50\n",
            "75\n",
            "\n",
            "\n",
            "0\n",
            "30\n",
            "60\n",
            "90\n",
            "\n",
            "\n",
            "0\n",
            "35\n",
            "70\n",
            "105\n",
            "\n",
            "\n",
            "0\n",
            "40\n",
            "80\n",
            "120\n",
            "\n",
            "\n",
            "0\n",
            "45\n",
            "90\n",
            "135\n",
            "\n",
            "\n"
          ],
          "name": "stdout"
        }
      ]
    },
    {
      "cell_type": "code",
      "metadata": {
        "colab": {
          "base_uri": "https://localhost:8080/"
        },
        "id": "88MqfNb6vZCP",
        "outputId": "9c6384c0-9c38-42b0-b5ec-26831837174f"
      },
      "source": [
        "# (2)loop-list\r\n",
        "\r\n",
        "a = ['English', 'French', 'Chinese', 'Korean', 'Japanese']\r\n",
        "b = [i for i in a if len(i)<=6]\r\n",
        "b"
      ],
      "execution_count": 9,
      "outputs": [
        {
          "output_type": "execute_result",
          "data": {
            "text/plain": [
              "['French', 'Korean']"
            ]
          },
          "metadata": {
            "tags": []
          },
          "execution_count": 9
        }
      ]
    }
  ]
}