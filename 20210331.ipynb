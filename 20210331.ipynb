{
  "nbformat": 4,
  "nbformat_minor": 0,
  "metadata": {
    "colab": {
      "name": "20210331.ipynb",
      "provenance": [],
      "authorship_tag": "ABX9TyMwNaJOASMo70R7f4FscNkk",
      "include_colab_link": true
    },
    "kernelspec": {
      "name": "python3",
      "display_name": "Python 3"
    },
    "language_info": {
      "name": "python"
    }
  },
  "cells": [
    {
      "cell_type": "markdown",
      "metadata": {
        "id": "view-in-github",
        "colab_type": "text"
      },
      "source": [
        "<a href=\"https://colab.research.google.com/github/Serin-k/class2021Spring/blob/main/20210331.ipynb\" target=\"_parent\"><img src=\"https://colab.research.google.com/assets/colab-badge.svg\" alt=\"Open In Colab\"/></a>"
      ]
    },
    {
      "cell_type": "markdown",
      "metadata": {
        "id": "HoXjsCh14VDa"
      },
      "source": [
        "\n",
        "## **아**\n",
        "- Pitch: 200.2 Hz\n",
        "- Intensity: 71.17 dB\n",
        "- Formant: 1173 Hz / 1529 Hz\n",
        "- Duration: 0.58 sec\n",
        "\n",
        "## **애**\n",
        "- Pitch: 199.7 Hz\n",
        "- Intensity: 72.4 dB\n",
        "- Formant: 622 Hz / 2080 Hz\n",
        "- Duration: 0.72 sec"
      ]
    }
  ]
}