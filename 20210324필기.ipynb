{
  "nbformat": 4,
  "nbformat_minor": 0,
  "metadata": {
    "colab": {
      "name": "20210324필기.ipynb",
      "provenance": [],
      "authorship_tag": "ABX9TyPIe1DsPZNfmaLSvVMnLgLY",
      "include_colab_link": true
    },
    "kernelspec": {
      "name": "python3",
      "display_name": "Python 3"
    },
    "language_info": {
      "name": "python"
    }
  },
  "cells": [
    {
      "cell_type": "markdown",
      "metadata": {
        "id": "view-in-github",
        "colab_type": "text"
      },
      "source": [
        "<a href=\"https://colab.research.google.com/github/Serin-k/class2021Spring/blob/main/20210324%ED%95%84%EA%B8%B0.ipynb\" target=\"_parent\"><img src=\"https://colab.research.google.com/assets/colab-badge.svg\" alt=\"Open In Colab\"/></a>"
      ]
    },
    {
      "cell_type": "code",
      "metadata": {
        "id": "qwmbC2MvnsPt"
      },
      "source": [
        ""
      ],
      "execution_count": null,
      "outputs": []
    },
    {
      "cell_type": "markdown",
      "metadata": {
        "id": "ZdwA8jMSntXU"
      },
      "source": [
        "#**3/24**\n",
        "###**NumPy Basics**\n",
        "\n",
        "```\n",
        "import numpy as np\n",
        "#아래와같은식으로 사용가능\n",
        "np.empty([2,3], dtype='int')\n",
        "```\n",
        "- import를 중간에 그냥 사용해도 된다\n",
        "\n",
        "```\n",
        "import matplotlib.pyplot as plt\n",
        "data=\n",
        "plt.hist(data, bins=10)\n",
        "plt.show()\n",
        "```\n",
        "\n",
        "\n",
        "- np.empty([2,3], dtype='int')\n",
        "  - 2x3의 행렬을 만들어라\n",
        "  - data type은 int형\n",
        "- np.zeros([2,3])\n",
        "  - 행렬을 만들어라\n",
        "- np.arange(0,10,2, dtype='float64')\n",
        "  - 0부터 10직전까지 2라는 increment를 가지고 숫자를 만들어라 - 2x3의 행렬을 만들어라\n",
        "  - data type은 int형\n",
        "- np.zeros([2,3])\n",
        "  - 행렬을 만들어라\n",
        "- np.arange(0,10,2, dtype='float64')\n",
        "  - 0부터 10직전까지 2라는 increment를 가지고 숫자를 만들어라\n",
        "- np.linspace(0,10,6,dtype=float)\n",
        "  - 0부터 10까지 총 6개로 같은 간격으로 만들어라. (10도 포함됨)\n",
        "- 이런 숫자의 나열(1x3 / 3x1)은 vector. 벡터는 행렬인데 가로/세로로 길쭉한 형태다. \n",
        "- X = np.array([[1,2,3],[4,5,6]])\n",
        "  - 2x3행렬을 만들어서 X에 assign\n",
        "- X.astype(np.float64)\n",
        "  - class를 float type으로 바꿔준다\n",
        "- np.zeros_like(X) \n",
        "  - X array를 모두 다 0으로 대체해라. 2x3형태는 유지한채로. \n",
        "- data = np.random.normal(0,1,100)\n",
        "  - 중간이 0에 오고, 폭이 standard deviation인 1이 되도록 총 normal distribution을 가지고 100개의 숫자를 random하게 만들어내라\n",
        "- plt.hist(data, bins=10)\n",
        "  - 히스토그램을 만들어라. bin은 막대그래프 개수\n",
        "\n",
        "\n",
        "###**Manipulation**\n",
        "\n",
        "- X=np.ones([2,3,4])\n",
        "  - 2x3x4 3차원 행렬\n",
        "  - 그럼 1은 몇개? 24개 \n",
        "- Y=X.reshape(-1,3,2)\n",
        "  - 그 만든 행렬을 reshape\n",
        "- np.allclose(X.reshape(-1,3,2,Y)\n",
        "\n",
        "\n",
        "###**Inspecting**\n",
        "\n",
        "- 사실 모든 변수는 class다\n",
        "- type(arr) 타입\n",
        "- len(arr) 길이\n",
        "- arr.shape 형태\n",
        "- arr.ndim 몇차원인지\n",
        "- arr.size 개수\n",
        "- arr.dtype\n",
        "\n",
        "###**Operations**\n",
        "####Arithmetic\n",
        "\n",
        "- 2x3 X 3x2 = 2x2\n",
        "- 행렬의 형태를 띄긴하지만 행렬이 아닌거임\n",
        "- np.matrix(a)\n",
        "  - 가짜 array matrix에 이걸 넣으면 진짜 행렬이 됨\n",
        "- a*b.T\n",
        "  - Transpose\n",
        "\n",
        "\n",
        "####Comparison\n",
        "\n",
        "- T/F\n",
        "\n",
        "\n",
        "####Broadcasting\n",
        "- 1x24를 4x6으로 만들어주는\n",
        "\n",
        "\n",
        "####Aggregate\n",
        "- a.sum(axis=0)\n",
        "  - sum을 하되, axis 0축으로만 해라\n"
      ]
    }
  ]
}