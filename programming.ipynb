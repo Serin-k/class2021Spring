{
  "nbformat": 4,
  "nbformat_minor": 0,
  "metadata": {
    "colab": {
      "name": "programming.ipynb",
      "provenance": [],
      "authorship_tag": "ABX9TyMy03/VzMZI2e4JGG/592W9",
      "include_colab_link": true
    },
    "kernelspec": {
      "name": "python3",
      "display_name": "Python 3"
    }
  },
  "cells": [
    {
      "cell_type": "markdown",
      "metadata": {
        "id": "view-in-github",
        "colab_type": "text"
      },
      "source": [
        "<a href=\"https://colab.research.google.com/github/Serin-k/class2021Spring/blob/main/programming.ipynb\" target=\"_parent\"><img src=\"https://colab.research.google.com/assets/colab-badge.svg\" alt=\"Open In Colab\"/></a>"
      ]
    },
    {
      "cell_type": "markdown",
      "metadata": {
        "id": "IaZjyKHwkjW2"
      },
      "source": [
        "# 📓0310 Notetaking\r\n",
        "### **프로그래밍 언어**\r\n",
        "\r\n",
        "- **변수**\r\n",
        "  - a=1이라고 할 때, a에 1을 assign한다는 의미임\r\n",
        "- **제어문**  if/for\r\n",
        "  - 대부분의 프로그래밍 언어에 있음\r\n",
        "  - 조건문\r\n",
        "    - if a==1: a가 1이라면\r\n",
        "```\r\n",
        "a=1\r\n",
        "if a==1:\r\n",
        "    print(3)\r\n",
        "```\r\n",
        "    - 같다의 의미는 == \r\n",
        "  - 반복문\r\n",
        "    - for 300 300만큼\r\n",
        "- **함수**: 입출력관계(input-output)\r\n",
        "  - y = f(x)\r\n",
        "  - 인간의 몸과 비슷한 체계\r\n",
        "  - 반복적으로 수행해야하는 작업(덧셈 등)을 함수화해서 사용할 수 있음\r\n",
        "  - a+b -> sum(a,b)\r\n",
        "  - def sum()...\r\n"
      ]
    },
    {
      "cell_type": "code",
      "metadata": {
        "colab": {
          "base_uri": "https://localhost:8080/"
        },
        "id": "w9LivJy5iAtY",
        "outputId": "94e1dbfd-2294-4147-8a80-ec19b153c80c"
      },
      "source": [
        ""
      ],
      "execution_count": 7,
      "outputs": [
        {
          "output_type": "stream",
          "text": [
            "3\n"
          ],
          "name": "stdout"
        }
      ]
    }
  ]
}