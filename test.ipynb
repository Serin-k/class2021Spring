{
  "nbformat": 4,
  "nbformat_minor": 0,
  "metadata": {
    "colab": {
      "name": "Untitled0.ipynb",
      "provenance": [],
      "authorship_tag": "ABX9TyOII2/dcD/3qOa09U49wekC",
      "include_colab_link": true
    },
    "kernelspec": {
      "name": "python3",
      "display_name": "Python 3"
    }
  },
  "cells": [
    {
      "cell_type": "markdown",
      "metadata": {
        "id": "view-in-github",
        "colab_type": "text"
      },
      "source": [
        "<a href=\"https://colab.research.google.com/github/Serin-k/class2021Spring/blob/main/test.ipynb\" target=\"_parent\"><img src=\"https://colab.research.google.com/assets/colab-badge.svg\" alt=\"Open In Colab\"/></a>"
      ]
    },
    {
      "cell_type": "markdown",
      "metadata": {
        "id": "PGXsb4EFUCAY"
      },
      "source": [
        "<h1>필기하는곳\r\n",
        "<h4>3/8 영어음성학응용\r\n",
        "\r\n",
        "**📒오늘 배운 것:**\r\n",
        "1. github 계정 만들기\r\n",
        "2. login해서 repository 만들기 (이름은 class2021 Spring)\r\n",
        "3. 이 전체를 Jupyter Notebook이라고 한다\r\n",
        "  - 코드와 텍스트로 구성된다\r\n",
        "  - 한 칸을 cell이라고 한다\r\n",
        "  - 저장되는 파일형식은 ipynb"
      ]
    },
    {
      "cell_type": "code",
      "metadata": {
        "colab": {
          "base_uri": "https://localhost:8080/"
        },
        "id": "VU64EjbaUDZI",
        "outputId": "93f50bfd-5951-4f48-c8cb-cd53ed191718"
      },
      "source": [
        "#코딩하는곳\r\n",
        "\r\n",
        "a=1\r\n",
        "b=2\r\n",
        "c=a+b\r\n",
        "c"
      ],
      "execution_count": 14,
      "outputs": [
        {
          "output_type": "execute_result",
          "data": {
            "text/plain": [
              "3"
            ]
          },
          "metadata": {
            "tags": []
          },
          "execution_count": 14
        }
      ]
    },
    {
      "cell_type": "markdown",
      "metadata": {
        "id": "bvPTj3cIUE6c"
      },
      "source": [
        ""
      ]
    }
  ]
}
