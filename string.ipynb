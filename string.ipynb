{
  "nbformat": 4,
  "nbformat_minor": 0,
  "metadata": {
    "kernelspec": {
      "display_name": "Python 3",
      "language": "python",
      "name": "python3"
    },
    "language_info": {
      "codemirror_mode": {
        "name": "ipython",
        "version": 3
      },
      "file_extension": ".py",
      "mimetype": "text/x-python",
      "name": "python",
      "nbconvert_exporter": "python",
      "pygments_lexer": "ipython3",
      "version": "3.7.1"
    },
    "colab": {
      "name": "string.ipynb의 사본",
      "provenance": [],
      "include_colab_link": true
    }
  },
  "cells": [
    {
      "cell_type": "markdown",
      "metadata": {
        "id": "view-in-github",
        "colab_type": "text"
      },
      "source": [
        "<a href=\"https://colab.research.google.com/github/Serin-k/class2021Spring/blob/main/string.ipynb\" target=\"_parent\"><img src=\"https://colab.research.google.com/assets/colab-badge.svg\" alt=\"Open In Colab\"/></a>"
      ]
    },
    {
      "cell_type": "markdown",
      "metadata": {
        "id": "zvmEOm0ajhvk"
      },
      "source": [
        "  ## ⭐**문자열**\r\n",
        "  - 0부터 시작, 맨뒤는 -1처럼 음수로도 접근가능\r\n",
        "  - [1:3]으로 1~2 번째 출력가능. 1부터 3번째 전까지라는 뜻\r\n",
        "  - [1:-1] 1부터 끝까지\r\n",
        "  - [:3] 맨첨부터 3번째 전까지\r\n",
        "  - len으로 길이/개수 알 수 있음\r\n",
        "  - list.upper()하면 대문자로 출력됨. list자체를 바꾸고 싶으면 \r\n",
        "  ```\r\n",
        "  list=list.upper()\r\n",
        "  ```\r\n",
        "  - list.lower()하면 소문자\r\n",
        "  - list.find('house')하면 house를 찾아서 인덱스 반환/없으면 -1\r\n",
        "  - list.rindex('')는 뒤에서부터 index\r\n",
        "  - list.strip은 젤앞 젤뒤 공백 없어짐  - list.lower()하면 소문자\r\n",
        "  - list.find('house')하면 house를 찾아서 인덱스 반환/없으면 -1\r\n",
        "  - list.rindex('')는 뒤에서부터 index\r\n",
        "  - list.strip은 젤앞 젤뒤 공백 없어짐\r\n",
        "  - list.split('')은 빈칸을 기준으로 split해서 리스트로 만들어줌\r\n",
        "  - ' '.join(tokens)하면 빈칸 기준으로 하나로 이어줌\r\n",
        "  - list=list.replace('this', 'that') this를 that으로 바꿔줌"
      ]
    },
    {
      "cell_type": "code",
      "metadata": {
        "id": "q3rAOE-wurKY",
        "outputId": "bb9f9709-7368-4fd8-cb64-fd29c5d827fa"
      },
      "source": [
        "s = 'abcdef'\n",
        "print(s[0], s[5], s[-1], s[-6])\n",
        "print(s[1:3], s[1:], s[:3], s[:])"
      ],
      "execution_count": null,
      "outputs": [
        {
          "output_type": "stream",
          "text": [
            "<class 'str'>\n",
            "a f f a\n",
            "bc bcdef abc abcdef\n"
          ],
          "name": "stdout"
        }
      ]
    },
    {
      "cell_type": "code",
      "metadata": {
        "id": "6gW7LcAjurKe",
        "outputId": "470ab62e-551e-4682-e421-4ceb10ae572f"
      },
      "source": [
        "n = [100, 200, 300]\n",
        "print(n[0], n[2], n[-1], n[-3])\n",
        "print(n[1:2], n[1:], n[:2], n[:])"
      ],
      "execution_count": null,
      "outputs": [
        {
          "output_type": "stream",
          "text": [
            "100 300 300 100\n",
            "[200] [200, 300] [100, 200] [100, 200, 300]\n"
          ],
          "name": "stdout"
        }
      ]
    },
    {
      "cell_type": "code",
      "metadata": {
        "id": "yhH3dnJJurKf",
        "outputId": "89e99b51-f056-4dc4-deba-bf8b757dc4be"
      },
      "source": [
        "len(s)"
      ],
      "execution_count": null,
      "outputs": [
        {
          "output_type": "execute_result",
          "data": {
            "text/plain": [
              "6"
            ]
          },
          "metadata": {
            "tags": []
          },
          "execution_count": 4
        }
      ]
    },
    {
      "cell_type": "code",
      "metadata": {
        "id": "CuIxLEgWurKf",
        "outputId": "c4761aae-98cc-49d9-ba14-b29539b23da2"
      },
      "source": [
        "s[1]+s[3]+s[4:]*10"
      ],
      "execution_count": null,
      "outputs": [
        {
          "output_type": "execute_result",
          "data": {
            "text/plain": [
              "'bdefefefefefefefefefef'"
            ]
          },
          "metadata": {
            "tags": []
          },
          "execution_count": 5
        }
      ]
    },
    {
      "cell_type": "code",
      "metadata": {
        "id": "B-4Qj7h5urKg",
        "outputId": "df319b55-b2fa-4fe2-d125-b487ac8f2f5e"
      },
      "source": [
        "s.upper()"
      ],
      "execution_count": null,
      "outputs": [
        {
          "output_type": "execute_result",
          "data": {
            "text/plain": [
              "'ABCDEF'"
            ]
          },
          "metadata": {
            "tags": []
          },
          "execution_count": 7
        }
      ]
    },
    {
      "cell_type": "code",
      "metadata": {
        "id": "NH4kiUqBurKg",
        "outputId": "c03bfd55-2655-4b3d-f437-6abd57d1ccc3"
      },
      "source": [
        "s = ' this is a house built this year.\\n' \t\n",
        "s"
      ],
      "execution_count": null,
      "outputs": [
        {
          "output_type": "execute_result",
          "data": {
            "text/plain": [
              "' this is a house built this year.\\n'"
            ]
          },
          "metadata": {
            "tags": []
          },
          "execution_count": 10
        }
      ]
    },
    {
      "cell_type": "code",
      "metadata": {
        "id": "fLQKJxqgurKg",
        "outputId": "43252659-8fb0-4261-ec80-8758a1d86a79"
      },
      "source": [
        "result = s.find('house') \t    # index of first instance of string t inside s (-1 if not found)\n",
        "result"
      ],
      "execution_count": null,
      "outputs": [
        {
          "output_type": "execute_result",
          "data": {
            "text/plain": [
              "11"
            ]
          },
          "metadata": {
            "tags": []
          },
          "execution_count": 11
        }
      ]
    },
    {
      "cell_type": "code",
      "metadata": {
        "id": "q8gAMAnFurKh",
        "outputId": "36b66681-67a4-4958-cbfd-cd9e57529ef1"
      },
      "source": [
        "result = s.find('this')\t    # index of last instance of string t inside s (-1 if not found)\n",
        "result"
      ],
      "execution_count": null,
      "outputs": [
        {
          "output_type": "execute_result",
          "data": {
            "text/plain": [
              "1"
            ]
          },
          "metadata": {
            "tags": []
          },
          "execution_count": 12
        }
      ]
    },
    {
      "cell_type": "code",
      "metadata": {
        "id": "hEP3BGLIurKh",
        "outputId": "a62e6a3a-eb2d-4333-cb13-7cac15ed6451"
      },
      "source": [
        "result = s.rindex('this')        # like s.find(t) except it raises ValueError if not found\n",
        "result"
      ],
      "execution_count": null,
      "outputs": [
        {
          "output_type": "execute_result",
          "data": {
            "text/plain": [
              "23"
            ]
          },
          "metadata": {
            "tags": []
          },
          "execution_count": 13
        }
      ]
    },
    {
      "cell_type": "code",
      "metadata": {
        "id": "CpFnxuosurKh",
        "outputId": "b8e27bc2-845d-4667-b5e9-006cef0216cf"
      },
      "source": [
        "s = s.strip()      \t            # a copy of s without leading or trailing whitespace\n",
        "s"
      ],
      "execution_count": null,
      "outputs": [
        {
          "output_type": "execute_result",
          "data": {
            "text/plain": [
              "'this is a house built this year.'"
            ]
          },
          "metadata": {
            "tags": []
          },
          "execution_count": 14
        }
      ]
    },
    {
      "cell_type": "code",
      "metadata": {
        "id": "2upnpA4aurKi",
        "outputId": "a18d13c9-a9af-4bfc-f6aa-c1544753e4d7"
      },
      "source": [
        "tokens = s.split(' ')\t        # split s into a list wherever a t is found (whitespace by default)\n",
        "tokens"
      ],
      "execution_count": null,
      "outputs": [
        {
          "output_type": "execute_result",
          "data": {
            "text/plain": [
              "['this', 'is', 'a', 'house', 'built', 'this', 'year.']"
            ]
          },
          "metadata": {
            "tags": []
          },
          "execution_count": 15
        }
      ]
    },
    {
      "cell_type": "code",
      "metadata": {
        "id": "HIUkcuqaurKi",
        "outputId": "b795e3ba-6271-4b95-b3d0-0dca7864e9c4"
      },
      "source": [
        "s = ' '.join(tokens)\t        # combine the words of the text into a string using s as the glue\n",
        "s"
      ],
      "execution_count": null,
      "outputs": [
        {
          "output_type": "execute_result",
          "data": {
            "text/plain": [
              "'this is a house built this year.'"
            ]
          },
          "metadata": {
            "tags": []
          },
          "execution_count": 16
        }
      ]
    },
    {
      "cell_type": "code",
      "metadata": {
        "id": "NZC37X6eurKi",
        "outputId": "a297beb1-d89c-49a6-a922-258a8d3df5e4"
      },
      "source": [
        "s = s.replace('this', 'that')   # replace instances of t with u inside s\n",
        "s"
      ],
      "execution_count": null,
      "outputs": [
        {
          "output_type": "execute_result",
          "data": {
            "text/plain": [
              "'that is a house built that year.'"
            ]
          },
          "metadata": {
            "tags": []
          },
          "execution_count": 17
        }
      ]
    }
  ]
}